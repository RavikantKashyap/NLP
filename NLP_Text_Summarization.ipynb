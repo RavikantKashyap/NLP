{
 "cells": [
  {
   "cell_type": "markdown",
   "id": "joined-apartment",
   "metadata": {},
   "source": [
    "# Text Summarization"
   ]
  },
  {
   "cell_type": "code",
   "execution_count": 76,
   "id": "built-consultancy",
   "metadata": {},
   "outputs": [],
   "source": [
    "text = \"\"\"\n",
    "Predictive causal analytics : If you want a model that can predict the possibilities of a particular event in the future, you need to apply predictive causal analytics. Say, if you are providing money on credit, then the probability of customers making future credit payments on time is a matter of concern for you. Here, you can build a model that can perform predictive analytics on the payment history of the customer to predict if the future payments will be on time or not.\n",
    "Prescriptive analytics: If you want a model that has the intelligence of taking its own decisions and the ability to modify it with dynamic parameters, you certainly need prescriptive analytics for it. This relatively new field is all about providing advice. In other terms, it not only predicts but suggests a range of prescribed actions and associated outcomes.\n",
    "The best example for this is Google’s self-driving car which I had discussed earlier too. The data gathered by vehicles can be used to train self-driving cars. You can run algorithms on this data to bring intelligence to it. This will enable your car to take decisions like when to turn, which path to take, when to slow down or speed up.\n",
    "Machine learning for making predictions — If you have transactional data of a finance company and need to build a model to determine the future trend, then machine learning algorithms are the best bet. This falls under the paradigm of supervised learning. It is called supervised because you already have the data based on which you can train your machines. For example, a fraud detection model can be trained using a historical record of fraudulent purchases.\n",
    "Machine learning for pattern discovery — If you don’t have the parameters based on which you can make predictions, then you need to find out the hidden patterns within the dataset to be able to make meaningful predictions. This is nothing but the unsupervised model as you don’t have any predefined labels for grouping. The most common algorithm used for pattern discovery is Clustering.\n",
    "Let’s say you are working in a telephone company and you need to establish a network by putting towers in a region. Then, you can use the clustering technique to find those tower locations which will ensure that all the users receive optimum signal strength.\"\"\""
   ]
  },
  {
   "cell_type": "code",
   "execution_count": 70,
   "id": "jewish-methodology",
   "metadata": {},
   "outputs": [],
   "source": [
    "# pip install -U spacy\n",
    "# python -m spacy download en_core_web_sm"
   ]
  },
  {
   "cell_type": "code",
   "execution_count": 60,
   "id": "removable-lightweight",
   "metadata": {},
   "outputs": [],
   "source": [
    "import spacy"
   ]
  },
  {
   "cell_type": "code",
   "execution_count": 61,
   "id": "banned-visibility",
   "metadata": {},
   "outputs": [],
   "source": [
    "from spacy.lang.en.stop_words import STOP_WORDS\n",
    "from string import punctuation"
   ]
  },
  {
   "cell_type": "code",
   "execution_count": 62,
   "id": "taken-tomato",
   "metadata": {},
   "outputs": [],
   "source": [
    "stopwords = list(STOP_WORDS)"
   ]
  },
  {
   "cell_type": "code",
   "execution_count": 77,
   "id": "alternate-blind",
   "metadata": {},
   "outputs": [],
   "source": [
    "nlp = spacy.load('en_core_web_sm')"
   ]
  },
  {
   "cell_type": "code",
   "execution_count": 78,
   "id": "interracial-catch",
   "metadata": {},
   "outputs": [],
   "source": [
    "doc= nlp(text)"
   ]
  },
  {
   "cell_type": "code",
   "execution_count": 79,
   "id": "instrumental-halloween",
   "metadata": {},
   "outputs": [
    {
     "data": {
      "text/plain": [
       "['\\n',\n",
       " 'Predictive',\n",
       " 'causal',\n",
       " 'analytics',\n",
       " ':',\n",
       " 'If',\n",
       " 'you',\n",
       " 'want',\n",
       " 'a',\n",
       " 'model',\n",
       " 'that',\n",
       " 'can',\n",
       " 'predict',\n",
       " 'the',\n",
       " 'possibilities',\n",
       " 'of',\n",
       " 'a',\n",
       " 'particular',\n",
       " 'event',\n",
       " 'in',\n",
       " 'the',\n",
       " 'future',\n",
       " ',',\n",
       " 'you',\n",
       " 'need',\n",
       " 'to',\n",
       " 'apply',\n",
       " 'predictive',\n",
       " 'causal',\n",
       " 'analytics',\n",
       " '.',\n",
       " 'Say',\n",
       " ',',\n",
       " 'if',\n",
       " 'you',\n",
       " 'are',\n",
       " 'providing',\n",
       " 'money',\n",
       " 'on',\n",
       " 'credit',\n",
       " ',',\n",
       " 'then',\n",
       " 'the',\n",
       " 'probability',\n",
       " 'of',\n",
       " 'customers',\n",
       " 'making',\n",
       " 'future',\n",
       " 'credit',\n",
       " 'payments',\n",
       " 'on',\n",
       " 'time',\n",
       " 'is',\n",
       " 'a',\n",
       " 'matter',\n",
       " 'of',\n",
       " 'concern',\n",
       " 'for',\n",
       " 'you',\n",
       " '.',\n",
       " 'Here',\n",
       " ',',\n",
       " 'you',\n",
       " 'can',\n",
       " 'build',\n",
       " 'a',\n",
       " 'model',\n",
       " 'that',\n",
       " 'can',\n",
       " 'perform',\n",
       " 'predictive',\n",
       " 'analytics',\n",
       " 'on',\n",
       " 'the',\n",
       " 'payment',\n",
       " 'history',\n",
       " 'of',\n",
       " 'the',\n",
       " 'customer',\n",
       " 'to',\n",
       " 'predict',\n",
       " 'if',\n",
       " 'the',\n",
       " 'future',\n",
       " 'payments',\n",
       " 'will',\n",
       " 'be',\n",
       " 'on',\n",
       " 'time',\n",
       " 'or',\n",
       " 'not',\n",
       " '.',\n",
       " '\\n',\n",
       " 'Prescriptive',\n",
       " 'analytics',\n",
       " ':',\n",
       " 'If',\n",
       " 'you',\n",
       " 'want',\n",
       " 'a',\n",
       " 'model',\n",
       " 'that',\n",
       " 'has',\n",
       " 'the',\n",
       " 'intelligence',\n",
       " 'of',\n",
       " 'taking',\n",
       " 'its',\n",
       " 'own',\n",
       " 'decisions',\n",
       " 'and',\n",
       " 'the',\n",
       " 'ability',\n",
       " 'to',\n",
       " 'modify',\n",
       " 'it',\n",
       " 'with',\n",
       " 'dynamic',\n",
       " 'parameters',\n",
       " ',',\n",
       " 'you',\n",
       " 'certainly',\n",
       " 'need',\n",
       " 'prescriptive',\n",
       " 'analytics',\n",
       " 'for',\n",
       " 'it',\n",
       " '.',\n",
       " 'This',\n",
       " 'relatively',\n",
       " 'new',\n",
       " 'field',\n",
       " 'is',\n",
       " 'all',\n",
       " 'about',\n",
       " 'providing',\n",
       " 'advice',\n",
       " '.',\n",
       " 'In',\n",
       " 'other',\n",
       " 'terms',\n",
       " ',',\n",
       " 'it',\n",
       " 'not',\n",
       " 'only',\n",
       " 'predicts',\n",
       " 'but',\n",
       " 'suggests',\n",
       " 'a',\n",
       " 'range',\n",
       " 'of',\n",
       " 'prescribed',\n",
       " 'actions',\n",
       " 'and',\n",
       " 'associated',\n",
       " 'outcomes',\n",
       " '.',\n",
       " '\\n',\n",
       " 'The',\n",
       " 'best',\n",
       " 'example',\n",
       " 'for',\n",
       " 'this',\n",
       " 'is',\n",
       " 'Google',\n",
       " '’s',\n",
       " 'self',\n",
       " '-',\n",
       " 'driving',\n",
       " 'car',\n",
       " 'which',\n",
       " 'I',\n",
       " 'had',\n",
       " 'discussed',\n",
       " 'earlier',\n",
       " 'too',\n",
       " '.',\n",
       " 'The',\n",
       " 'data',\n",
       " 'gathered',\n",
       " 'by',\n",
       " 'vehicles',\n",
       " 'can',\n",
       " 'be',\n",
       " 'used',\n",
       " 'to',\n",
       " 'train',\n",
       " 'self',\n",
       " '-',\n",
       " 'driving',\n",
       " 'cars',\n",
       " '.',\n",
       " 'You',\n",
       " 'can',\n",
       " 'run',\n",
       " 'algorithms',\n",
       " 'on',\n",
       " 'this',\n",
       " 'data',\n",
       " 'to',\n",
       " 'bring',\n",
       " 'intelligence',\n",
       " 'to',\n",
       " 'it',\n",
       " '.',\n",
       " 'This',\n",
       " 'will',\n",
       " 'enable',\n",
       " 'your',\n",
       " 'car',\n",
       " 'to',\n",
       " 'take',\n",
       " 'decisions',\n",
       " 'like',\n",
       " 'when',\n",
       " 'to',\n",
       " 'turn',\n",
       " ',',\n",
       " 'which',\n",
       " 'path',\n",
       " 'to',\n",
       " 'take',\n",
       " ',',\n",
       " 'when',\n",
       " 'to',\n",
       " 'slow',\n",
       " 'down',\n",
       " 'or',\n",
       " 'speed',\n",
       " 'up',\n",
       " '.',\n",
       " '\\n',\n",
       " 'Machine',\n",
       " 'learning',\n",
       " 'for',\n",
       " 'making',\n",
       " 'predictions',\n",
       " '—',\n",
       " 'If',\n",
       " 'you',\n",
       " 'have',\n",
       " 'transactional',\n",
       " 'data',\n",
       " 'of',\n",
       " 'a',\n",
       " 'finance',\n",
       " 'company',\n",
       " 'and',\n",
       " 'need',\n",
       " 'to',\n",
       " 'build',\n",
       " 'a',\n",
       " 'model',\n",
       " 'to',\n",
       " 'determine',\n",
       " 'the',\n",
       " 'future',\n",
       " 'trend',\n",
       " ',',\n",
       " 'then',\n",
       " 'machine',\n",
       " 'learning',\n",
       " 'algorithms',\n",
       " 'are',\n",
       " 'the',\n",
       " 'best',\n",
       " 'bet',\n",
       " '.',\n",
       " 'This',\n",
       " 'falls',\n",
       " 'under',\n",
       " 'the',\n",
       " 'paradigm',\n",
       " 'of',\n",
       " 'supervised',\n",
       " 'learning',\n",
       " '.',\n",
       " 'It',\n",
       " 'is',\n",
       " 'called',\n",
       " 'supervised',\n",
       " 'because',\n",
       " 'you',\n",
       " 'already',\n",
       " 'have',\n",
       " 'the',\n",
       " 'data',\n",
       " 'based',\n",
       " 'on',\n",
       " 'which',\n",
       " 'you',\n",
       " 'can',\n",
       " 'train',\n",
       " 'your',\n",
       " 'machines',\n",
       " '.',\n",
       " 'For',\n",
       " 'example',\n",
       " ',',\n",
       " 'a',\n",
       " 'fraud',\n",
       " 'detection',\n",
       " 'model',\n",
       " 'can',\n",
       " 'be',\n",
       " 'trained',\n",
       " 'using',\n",
       " 'a',\n",
       " 'historical',\n",
       " 'record',\n",
       " 'of',\n",
       " 'fraudulent',\n",
       " 'purchases',\n",
       " '.',\n",
       " '\\n',\n",
       " 'Machine',\n",
       " 'learning',\n",
       " 'for',\n",
       " 'pattern',\n",
       " 'discovery',\n",
       " '—',\n",
       " 'If',\n",
       " 'you',\n",
       " 'do',\n",
       " 'n’t',\n",
       " 'have',\n",
       " 'the',\n",
       " 'parameters',\n",
       " 'based',\n",
       " 'on',\n",
       " 'which',\n",
       " 'you',\n",
       " 'can',\n",
       " 'make',\n",
       " 'predictions',\n",
       " ',',\n",
       " 'then',\n",
       " 'you',\n",
       " 'need',\n",
       " 'to',\n",
       " 'find',\n",
       " 'out',\n",
       " 'the',\n",
       " 'hidden',\n",
       " 'patterns',\n",
       " 'within',\n",
       " 'the',\n",
       " 'dataset',\n",
       " 'to',\n",
       " 'be',\n",
       " 'able',\n",
       " 'to',\n",
       " 'make',\n",
       " 'meaningful',\n",
       " 'predictions',\n",
       " '.',\n",
       " 'This',\n",
       " 'is',\n",
       " 'nothing',\n",
       " 'but',\n",
       " 'the',\n",
       " 'unsupervised',\n",
       " 'model',\n",
       " 'as',\n",
       " 'you',\n",
       " 'do',\n",
       " 'n’t',\n",
       " 'have',\n",
       " 'any',\n",
       " 'predefined',\n",
       " 'labels',\n",
       " 'for',\n",
       " 'grouping',\n",
       " '.',\n",
       " 'The',\n",
       " 'most',\n",
       " 'common',\n",
       " 'algorithm',\n",
       " 'used',\n",
       " 'for',\n",
       " 'pattern',\n",
       " 'discovery',\n",
       " 'is',\n",
       " 'Clustering',\n",
       " '.',\n",
       " '\\n',\n",
       " 'Let',\n",
       " '’s',\n",
       " 'say',\n",
       " 'you',\n",
       " 'are',\n",
       " 'working',\n",
       " 'in',\n",
       " 'a',\n",
       " 'telephone',\n",
       " 'company',\n",
       " 'and',\n",
       " 'you',\n",
       " 'need',\n",
       " 'to',\n",
       " 'establish',\n",
       " 'a',\n",
       " 'network',\n",
       " 'by',\n",
       " 'putting',\n",
       " 'towers',\n",
       " 'in',\n",
       " 'a',\n",
       " 'region',\n",
       " '.',\n",
       " 'Then',\n",
       " ',',\n",
       " 'you',\n",
       " 'can',\n",
       " 'use',\n",
       " 'the',\n",
       " 'clustering',\n",
       " 'technique',\n",
       " 'to',\n",
       " 'find',\n",
       " 'those',\n",
       " 'tower',\n",
       " 'locations',\n",
       " 'which',\n",
       " 'will',\n",
       " 'ensure',\n",
       " 'that',\n",
       " 'all',\n",
       " 'the',\n",
       " 'users',\n",
       " 'receive',\n",
       " 'optimum',\n",
       " 'signal',\n",
       " 'strength',\n",
       " '.']"
      ]
     },
     "execution_count": 79,
     "metadata": {},
     "output_type": "execute_result"
    }
   ],
   "source": [
    "tokens = [token.text for token in doc]\n",
    "tokens "
   ]
  },
  {
   "cell_type": "code",
   "execution_count": 80,
   "id": "attended-technique",
   "metadata": {},
   "outputs": [
    {
     "data": {
      "text/plain": [
       "'!\"#$%&\\'()*+,-./:;<=>?@[\\\\]^_`{|}~\\n\\n\\n'"
      ]
     },
     "execution_count": 80,
     "metadata": {},
     "output_type": "execute_result"
    }
   ],
   "source": [
    "punctuation  = punctuation+ \"\\n\"\n",
    "punctuation "
   ]
  },
  {
   "cell_type": "code",
   "execution_count": 81,
   "id": "disturbed-convention",
   "metadata": {},
   "outputs": [],
   "source": [
    "word_frequencies={}\n",
    "for word in doc:\n",
    "    if word.text.lower() not in stopwords:\n",
    "        if word.text.lower() not in punctuation:\n",
    "            if word.text not in word_frequencies.keys():\n",
    "                word_frequencies[word.text] = 1\n",
    "            else:\n",
    "                word_frequencies[word.text] += 1\n"
   ]
  },
  {
   "cell_type": "code",
   "execution_count": 82,
   "id": "express-corps",
   "metadata": {},
   "outputs": [
    {
     "data": {
      "text/plain": [
       "{'Predictive': 1,\n",
       " 'causal': 2,\n",
       " 'analytics': 5,\n",
       " 'want': 2,\n",
       " 'model': 6,\n",
       " 'predict': 2,\n",
       " 'possibilities': 1,\n",
       " 'particular': 1,\n",
       " 'event': 1,\n",
       " 'future': 4,\n",
       " 'need': 5,\n",
       " 'apply': 1,\n",
       " 'predictive': 2,\n",
       " 'providing': 2,\n",
       " 'money': 1,\n",
       " 'credit': 2,\n",
       " 'probability': 1,\n",
       " 'customers': 1,\n",
       " 'making': 2,\n",
       " 'payments': 2,\n",
       " 'time': 2,\n",
       " 'matter': 1,\n",
       " 'concern': 1,\n",
       " 'build': 2,\n",
       " 'perform': 1,\n",
       " 'payment': 1,\n",
       " 'history': 1,\n",
       " 'customer': 1,\n",
       " 'Prescriptive': 1,\n",
       " 'intelligence': 2,\n",
       " 'taking': 1,\n",
       " 'decisions': 2,\n",
       " 'ability': 1,\n",
       " 'modify': 1,\n",
       " 'dynamic': 1,\n",
       " 'parameters': 2,\n",
       " 'certainly': 1,\n",
       " 'prescriptive': 1,\n",
       " 'relatively': 1,\n",
       " 'new': 1,\n",
       " 'field': 1,\n",
       " 'advice': 1,\n",
       " 'terms': 1,\n",
       " 'predicts': 1,\n",
       " 'suggests': 1,\n",
       " 'range': 1,\n",
       " 'prescribed': 1,\n",
       " 'actions': 1,\n",
       " 'associated': 1,\n",
       " 'outcomes': 1,\n",
       " 'best': 2,\n",
       " 'example': 2,\n",
       " 'Google': 1,\n",
       " 'self': 2,\n",
       " 'driving': 2,\n",
       " 'car': 2,\n",
       " 'discussed': 1,\n",
       " 'earlier': 1,\n",
       " 'data': 4,\n",
       " 'gathered': 1,\n",
       " 'vehicles': 1,\n",
       " 'train': 2,\n",
       " 'cars': 1,\n",
       " 'run': 1,\n",
       " 'algorithms': 2,\n",
       " 'bring': 1,\n",
       " 'enable': 1,\n",
       " 'like': 1,\n",
       " 'turn': 1,\n",
       " 'path': 1,\n",
       " 'slow': 1,\n",
       " 'speed': 1,\n",
       " 'Machine': 2,\n",
       " 'learning': 4,\n",
       " 'predictions': 3,\n",
       " '—': 2,\n",
       " 'transactional': 1,\n",
       " 'finance': 1,\n",
       " 'company': 2,\n",
       " 'determine': 1,\n",
       " 'trend': 1,\n",
       " 'machine': 1,\n",
       " 'bet': 1,\n",
       " 'falls': 1,\n",
       " 'paradigm': 1,\n",
       " 'supervised': 2,\n",
       " 'called': 1,\n",
       " 'based': 2,\n",
       " 'machines': 1,\n",
       " 'fraud': 1,\n",
       " 'detection': 1,\n",
       " 'trained': 1,\n",
       " 'historical': 1,\n",
       " 'record': 1,\n",
       " 'fraudulent': 1,\n",
       " 'purchases': 1,\n",
       " 'pattern': 2,\n",
       " 'discovery': 2,\n",
       " 'find': 2,\n",
       " 'hidden': 1,\n",
       " 'patterns': 1,\n",
       " 'dataset': 1,\n",
       " 'able': 1,\n",
       " 'meaningful': 1,\n",
       " 'unsupervised': 1,\n",
       " 'predefined': 1,\n",
       " 'labels': 1,\n",
       " 'grouping': 1,\n",
       " 'common': 1,\n",
       " 'algorithm': 1,\n",
       " 'Clustering': 1,\n",
       " 'Let': 1,\n",
       " 'working': 1,\n",
       " 'telephone': 1,\n",
       " 'establish': 1,\n",
       " 'network': 1,\n",
       " 'putting': 1,\n",
       " 'towers': 1,\n",
       " 'region': 1,\n",
       " 'use': 1,\n",
       " 'clustering': 1,\n",
       " 'technique': 1,\n",
       " 'tower': 1,\n",
       " 'locations': 1,\n",
       " 'ensure': 1,\n",
       " 'users': 1,\n",
       " 'receive': 1,\n",
       " 'optimum': 1,\n",
       " 'signal': 1,\n",
       " 'strength': 1}"
      ]
     },
     "execution_count": 82,
     "metadata": {},
     "output_type": "execute_result"
    }
   ],
   "source": [
    "word_frequencies "
   ]
  },
  {
   "cell_type": "code",
   "execution_count": 83,
   "id": "durable-resource",
   "metadata": {},
   "outputs": [
    {
     "name": "stdout",
     "output_type": "stream",
     "text": [
      "{'Predictive': 1, 'causal': 2, 'analytics': 5, 'want': 2, 'model': 6, 'predict': 2, 'possibilities': 1, 'particular': 1, 'event': 1, 'future': 4, 'need': 5, 'apply': 1, 'predictive': 2, 'providing': 2, 'money': 1, 'credit': 2, 'probability': 1, 'customers': 1, 'making': 2, 'payments': 2, 'time': 2, 'matter': 1, 'concern': 1, 'build': 2, 'perform': 1, 'payment': 1, 'history': 1, 'customer': 1, 'Prescriptive': 1, 'intelligence': 2, 'taking': 1, 'decisions': 2, 'ability': 1, 'modify': 1, 'dynamic': 1, 'parameters': 2, 'certainly': 1, 'prescriptive': 1, 'relatively': 1, 'new': 1, 'field': 1, 'advice': 1, 'terms': 1, 'predicts': 1, 'suggests': 1, 'range': 1, 'prescribed': 1, 'actions': 1, 'associated': 1, 'outcomes': 1, 'best': 2, 'example': 2, 'Google': 1, 'self': 2, 'driving': 2, 'car': 2, 'discussed': 1, 'earlier': 1, 'data': 4, 'gathered': 1, 'vehicles': 1, 'train': 2, 'cars': 1, 'run': 1, 'algorithms': 2, 'bring': 1, 'enable': 1, 'like': 1, 'turn': 1, 'path': 1, 'slow': 1, 'speed': 1, 'Machine': 2, 'learning': 4, 'predictions': 3, '—': 2, 'transactional': 1, 'finance': 1, 'company': 2, 'determine': 1, 'trend': 1, 'machine': 1, 'bet': 1, 'falls': 1, 'paradigm': 1, 'supervised': 2, 'called': 1, 'based': 2, 'machines': 1, 'fraud': 1, 'detection': 1, 'trained': 1, 'historical': 1, 'record': 1, 'fraudulent': 1, 'purchases': 1, 'pattern': 2, 'discovery': 2, 'find': 2, 'hidden': 1, 'patterns': 1, 'dataset': 1, 'able': 1, 'meaningful': 1, 'unsupervised': 1, 'predefined': 1, 'labels': 1, 'grouping': 1, 'common': 1, 'algorithm': 1, 'Clustering': 1, 'Let': 1, 'working': 1, 'telephone': 1, 'establish': 1, 'network': 1, 'putting': 1, 'towers': 1, 'region': 1, 'use': 1, 'clustering': 1, 'technique': 1, 'tower': 1, 'locations': 1, 'ensure': 1, 'users': 1, 'receive': 1, 'optimum': 1, 'signal': 1, 'strength': 1}\n"
     ]
    }
   ],
   "source": [
    "print(word_frequencies)"
   ]
  },
  {
   "cell_type": "code",
   "execution_count": 84,
   "id": "voluntary-casino",
   "metadata": {},
   "outputs": [],
   "source": [
    "max_freq = max(word_frequencies.values())"
   ]
  },
  {
   "cell_type": "code",
   "execution_count": 85,
   "id": "rising-regression",
   "metadata": {},
   "outputs": [
    {
     "data": {
      "text/plain": [
       "6"
      ]
     },
     "execution_count": 85,
     "metadata": {},
     "output_type": "execute_result"
    }
   ],
   "source": [
    "max_freq"
   ]
  },
  {
   "cell_type": "code",
   "execution_count": 86,
   "id": "double-narrative",
   "metadata": {},
   "outputs": [],
   "source": [
    "#here the max freq is 6 for word so to normalize all words we need to divide it by 6"
   ]
  },
  {
   "cell_type": "code",
   "execution_count": 87,
   "id": "criminal-constitutional",
   "metadata": {},
   "outputs": [],
   "source": [
    "for word in word_frequencies.keys():\n",
    "    word_frequencies[word] = word_frequencies[word]/max_freq"
   ]
  },
  {
   "cell_type": "code",
   "execution_count": 88,
   "id": "double-creek",
   "metadata": {},
   "outputs": [
    {
     "name": "stdout",
     "output_type": "stream",
     "text": [
      "{'Predictive': 0.16666666666666666, 'causal': 0.3333333333333333, 'analytics': 0.8333333333333334, 'want': 0.3333333333333333, 'model': 1.0, 'predict': 0.3333333333333333, 'possibilities': 0.16666666666666666, 'particular': 0.16666666666666666, 'event': 0.16666666666666666, 'future': 0.6666666666666666, 'need': 0.8333333333333334, 'apply': 0.16666666666666666, 'predictive': 0.3333333333333333, 'providing': 0.3333333333333333, 'money': 0.16666666666666666, 'credit': 0.3333333333333333, 'probability': 0.16666666666666666, 'customers': 0.16666666666666666, 'making': 0.3333333333333333, 'payments': 0.3333333333333333, 'time': 0.3333333333333333, 'matter': 0.16666666666666666, 'concern': 0.16666666666666666, 'build': 0.3333333333333333, 'perform': 0.16666666666666666, 'payment': 0.16666666666666666, 'history': 0.16666666666666666, 'customer': 0.16666666666666666, 'Prescriptive': 0.16666666666666666, 'intelligence': 0.3333333333333333, 'taking': 0.16666666666666666, 'decisions': 0.3333333333333333, 'ability': 0.16666666666666666, 'modify': 0.16666666666666666, 'dynamic': 0.16666666666666666, 'parameters': 0.3333333333333333, 'certainly': 0.16666666666666666, 'prescriptive': 0.16666666666666666, 'relatively': 0.16666666666666666, 'new': 0.16666666666666666, 'field': 0.16666666666666666, 'advice': 0.16666666666666666, 'terms': 0.16666666666666666, 'predicts': 0.16666666666666666, 'suggests': 0.16666666666666666, 'range': 0.16666666666666666, 'prescribed': 0.16666666666666666, 'actions': 0.16666666666666666, 'associated': 0.16666666666666666, 'outcomes': 0.16666666666666666, 'best': 0.3333333333333333, 'example': 0.3333333333333333, 'Google': 0.16666666666666666, 'self': 0.3333333333333333, 'driving': 0.3333333333333333, 'car': 0.3333333333333333, 'discussed': 0.16666666666666666, 'earlier': 0.16666666666666666, 'data': 0.6666666666666666, 'gathered': 0.16666666666666666, 'vehicles': 0.16666666666666666, 'train': 0.3333333333333333, 'cars': 0.16666666666666666, 'run': 0.16666666666666666, 'algorithms': 0.3333333333333333, 'bring': 0.16666666666666666, 'enable': 0.16666666666666666, 'like': 0.16666666666666666, 'turn': 0.16666666666666666, 'path': 0.16666666666666666, 'slow': 0.16666666666666666, 'speed': 0.16666666666666666, 'Machine': 0.3333333333333333, 'learning': 0.6666666666666666, 'predictions': 0.5, '—': 0.3333333333333333, 'transactional': 0.16666666666666666, 'finance': 0.16666666666666666, 'company': 0.3333333333333333, 'determine': 0.16666666666666666, 'trend': 0.16666666666666666, 'machine': 0.16666666666666666, 'bet': 0.16666666666666666, 'falls': 0.16666666666666666, 'paradigm': 0.16666666666666666, 'supervised': 0.3333333333333333, 'called': 0.16666666666666666, 'based': 0.3333333333333333, 'machines': 0.16666666666666666, 'fraud': 0.16666666666666666, 'detection': 0.16666666666666666, 'trained': 0.16666666666666666, 'historical': 0.16666666666666666, 'record': 0.16666666666666666, 'fraudulent': 0.16666666666666666, 'purchases': 0.16666666666666666, 'pattern': 0.3333333333333333, 'discovery': 0.3333333333333333, 'find': 0.3333333333333333, 'hidden': 0.16666666666666666, 'patterns': 0.16666666666666666, 'dataset': 0.16666666666666666, 'able': 0.16666666666666666, 'meaningful': 0.16666666666666666, 'unsupervised': 0.16666666666666666, 'predefined': 0.16666666666666666, 'labels': 0.16666666666666666, 'grouping': 0.16666666666666666, 'common': 0.16666666666666666, 'algorithm': 0.16666666666666666, 'Clustering': 0.16666666666666666, 'Let': 0.16666666666666666, 'working': 0.16666666666666666, 'telephone': 0.16666666666666666, 'establish': 0.16666666666666666, 'network': 0.16666666666666666, 'putting': 0.16666666666666666, 'towers': 0.16666666666666666, 'region': 0.16666666666666666, 'use': 0.16666666666666666, 'clustering': 0.16666666666666666, 'technique': 0.16666666666666666, 'tower': 0.16666666666666666, 'locations': 0.16666666666666666, 'ensure': 0.16666666666666666, 'users': 0.16666666666666666, 'receive': 0.16666666666666666, 'optimum': 0.16666666666666666, 'signal': 0.16666666666666666, 'strength': 0.16666666666666666}\n"
     ]
    }
   ],
   "source": [
    "print(word_frequencies)"
   ]
  },
  {
   "cell_type": "code",
   "execution_count": 89,
   "id": "beneficial-advocacy",
   "metadata": {},
   "outputs": [],
   "source": [
    "sentence_tokens = [sent for sent in doc.sents]"
   ]
  },
  {
   "cell_type": "code",
   "execution_count": 90,
   "id": "motivated-institution",
   "metadata": {},
   "outputs": [
    {
     "data": {
      "text/plain": [
       "[\n",
       " Predictive causal analytics : If you want a model that can predict the possibilities of a particular event in the future, you need to apply predictive causal analytics.,\n",
       " Say, if you are providing money on credit, then the probability of customers making future credit payments on time is a matter of concern for you.,\n",
       " Here, you can build a model that can perform predictive analytics on the payment history of the customer to predict if the future payments will be on time or not.,\n",
       " \n",
       " Prescriptive analytics: If you want a model that has the intelligence of taking its own decisions and the ability to modify it with dynamic parameters, you certainly need prescriptive analytics for it.,\n",
       " This relatively new field is all about providing advice.,\n",
       " In other terms, it not only predicts but suggests a range of prescribed actions and associated outcomes.,\n",
       " ,\n",
       " The best example for this is Google’s self-driving car which I had discussed earlier too.,\n",
       " The data gathered by vehicles can be used to train self-driving cars.,\n",
       " You can run algorithms on this data to bring intelligence to it.,\n",
       " This will enable your car to take decisions like when to turn, which path to take, when to slow down or speed up.,\n",
       " \n",
       " Machine learning for making predictions — If you have transactional data of a finance company and need to build a model to determine the future trend, then machine learning algorithms are the best bet.,\n",
       " This falls under the paradigm of supervised learning.,\n",
       " It is called supervised because you already have the data based on which you can train your machines.,\n",
       " For example, a fraud detection model can be trained using a historical record of fraudulent purchases.,\n",
       " \n",
       " Machine learning for pattern discovery — If you don’t have the parameters based on which you can make predictions, then you need to find out the hidden patterns within the dataset to be able to make meaningful predictions.,\n",
       " This is nothing but the unsupervised model as you don’t have any predefined labels for grouping.,\n",
       " The most common algorithm used for pattern discovery is Clustering.,\n",
       " \n",
       " Let’s say you are working in a telephone company and you need to establish a network by putting towers in a region.,\n",
       " Then, you can use the clustering technique to find those tower locations which will ensure that all the users receive optimum signal strength.]"
      ]
     },
     "execution_count": 90,
     "metadata": {},
     "output_type": "execute_result"
    }
   ],
   "source": [
    "sentence_tokens"
   ]
  },
  {
   "cell_type": "code",
   "execution_count": 91,
   "id": "imperial-irrigation",
   "metadata": {},
   "outputs": [],
   "source": [
    "sentence_scores={}\n",
    "for sent in sentence_tokens:\n",
    "    for word in sent:\n",
    "        if word.text.lower() in word_frequencies.keys():\n",
    "            if sent not in sentence_scores.keys():\n",
    "                sentence_scores[sent] = word_frequencies[word.text.lower()]\n",
    "                \n",
    "            else:\n",
    "                sentence_scores[sent] += word_frequencies[word.text.lower()]"
   ]
  },
  {
   "cell_type": "code",
   "execution_count": 92,
   "id": "regulation-desire",
   "metadata": {},
   "outputs": [
    {
     "name": "stdout",
     "output_type": "stream",
     "text": [
      "{\n",
      "Predictive causal analytics : If you want a model that can predict the possibilities of a particular event in the future, you need to apply predictive causal analytics.: 6.833333333333332, Say, if you are providing money on credit, then the probability of customers making future credit payments on time is a matter of concern for you.: 3.5, Here, you can build a model that can perform predictive analytics on the payment history of the customer to predict if the future payments will be on time or not.: 4.833333333333332, \n",
      "Prescriptive analytics: If you want a model that has the intelligence of taking its own decisions and the ability to modify it with dynamic parameters, you certainly need prescriptive analytics for it.: 5.999999999999999, This relatively new field is all about providing advice.: 0.9999999999999999, In other terms, it not only predicts but suggests a range of prescribed actions and associated outcomes.: 1.3333333333333333, The best example for this is Google’s self-driving car which I had discussed earlier too.: 2.0, The data gathered by vehicles can be used to train self-driving cars.: 2.1666666666666665, You can run algorithms on this data to bring intelligence to it.: 1.6666666666666665, This will enable your car to take decisions like when to turn, which path to take, when to slow down or speed up.: 1.6666666666666667, \n",
      "Machine learning for making predictions — If you have transactional data of a finance company and need to build a model to determine the future trend, then machine learning algorithms are the best bet.: 8.166666666666666, This falls under the paradigm of supervised learning.: 1.3333333333333333, It is called supervised because you already have the data based on which you can train your machines.: 1.9999999999999998, For example, a fraud detection model can be trained using a historical record of fraudulent purchases.: 2.4999999999999996, \n",
      "Machine learning for pattern discovery — If you don’t have the parameters based on which you can make predictions, then you need to find out the hidden patterns within the dataset to be able to make meaningful predictions.: 5.500000000000002, This is nothing but the unsupervised model as you don’t have any predefined labels for grouping.: 1.666666666666667, The most common algorithm used for pattern discovery is Clustering.: 1.1666666666666667, \n",
      "Let’s say you are working in a telephone company and you need to establish a network by putting towers in a region.: 2.333333333333333, Then, you can use the clustering technique to find those tower locations which will ensure that all the users receive optimum signal strength.: 2.1666666666666665}\n"
     ]
    }
   ],
   "source": [
    "print(sentence_scores)"
   ]
  },
  {
   "cell_type": "code",
   "execution_count": 93,
   "id": "automotive-premiere",
   "metadata": {},
   "outputs": [],
   "source": [
    "#now get the 30% of sentence with max score "
   ]
  },
  {
   "cell_type": "code",
   "execution_count": 94,
   "id": "fifth-cosmetic",
   "metadata": {},
   "outputs": [],
   "source": [
    "from heapq import nlargest"
   ]
  },
  {
   "cell_type": "code",
   "execution_count": 95,
   "id": "innovative-appliance",
   "metadata": {},
   "outputs": [
    {
     "data": {
      "text/plain": [
       "6"
      ]
     },
     "execution_count": 95,
     "metadata": {},
     "output_type": "execute_result"
    }
   ],
   "source": [
    "select_length = int(len(sentence_tokens)*0.3)\n",
    "select_length"
   ]
  },
  {
   "cell_type": "code",
   "execution_count": 96,
   "id": "supported-september",
   "metadata": {},
   "outputs": [],
   "source": [
    "summary = nlargest(select_length,sentence_scores,sentence_scores.get)"
   ]
  },
  {
   "cell_type": "code",
   "execution_count": 97,
   "id": "conservative-packet",
   "metadata": {},
   "outputs": [
    {
     "data": {
      "text/plain": [
       "[\n",
       " Machine learning for making predictions — If you have transactional data of a finance company and need to build a model to determine the future trend, then machine learning algorithms are the best bet.,\n",
       " \n",
       " Predictive causal analytics : If you want a model that can predict the possibilities of a particular event in the future, you need to apply predictive causal analytics.,\n",
       " \n",
       " Prescriptive analytics: If you want a model that has the intelligence of taking its own decisions and the ability to modify it with dynamic parameters, you certainly need prescriptive analytics for it.,\n",
       " \n",
       " Machine learning for pattern discovery — If you don’t have the parameters based on which you can make predictions, then you need to find out the hidden patterns within the dataset to be able to make meaningful predictions.,\n",
       " Here, you can build a model that can perform predictive analytics on the payment history of the customer to predict if the future payments will be on time or not.,\n",
       " Say, if you are providing money on credit, then the probability of customers making future credit payments on time is a matter of concern for you.]"
      ]
     },
     "execution_count": 97,
     "metadata": {},
     "output_type": "execute_result"
    }
   ],
   "source": [
    "summary"
   ]
  },
  {
   "cell_type": "code",
   "execution_count": 98,
   "id": "laughing-james",
   "metadata": {},
   "outputs": [],
   "source": [
    "#now just join the sentence"
   ]
  },
  {
   "cell_type": "code",
   "execution_count": 99,
   "id": "lucky-maine",
   "metadata": {},
   "outputs": [],
   "source": [
    "final_summary = [word.text for word in summary]"
   ]
  },
  {
   "cell_type": "code",
   "execution_count": 101,
   "id": "popular-mustang",
   "metadata": {},
   "outputs": [],
   "source": [
    "summary = ' '.join(final_summary)"
   ]
  },
  {
   "cell_type": "code",
   "execution_count": 103,
   "id": "monetary-jacob",
   "metadata": {},
   "outputs": [
    {
     "name": "stdout",
     "output_type": "stream",
     "text": [
      "\n",
      "Predictive causal analytics : If you want a model that can predict the possibilities of a particular event in the future, you need to apply predictive causal analytics. Say, if you are providing money on credit, then the probability of customers making future credit payments on time is a matter of concern for you. Here, you can build a model that can perform predictive analytics on the payment history of the customer to predict if the future payments will be on time or not.\n",
      "Prescriptive analytics: If you want a model that has the intelligence of taking its own decisions and the ability to modify it with dynamic parameters, you certainly need prescriptive analytics for it. This relatively new field is all about providing advice. In other terms, it not only predicts but suggests a range of prescribed actions and associated outcomes.\n",
      "The best example for this is Google’s self-driving car which I had discussed earlier too. The data gathered by vehicles can be used to train self-driving cars. You can run algorithms on this data to bring intelligence to it. This will enable your car to take decisions like when to turn, which path to take, when to slow down or speed up.\n",
      "Machine learning for making predictions — If you have transactional data of a finance company and need to build a model to determine the future trend, then machine learning algorithms are the best bet. This falls under the paradigm of supervised learning. It is called supervised because you already have the data based on which you can train your machines. For example, a fraud detection model can be trained using a historical record of fraudulent purchases.\n",
      "Machine learning for pattern discovery — If you don’t have the parameters based on which you can make predictions, then you need to find out the hidden patterns within the dataset to be able to make meaningful predictions. This is nothing but the unsupervised model as you don’t have any predefined labels for grouping. The most common algorithm used for pattern discovery is Clustering.\n",
      "Let’s say you are working in a telephone company and you need to establish a network by putting towers in a region. Then, you can use the clustering technique to find those tower locations which will ensure that all the users receive optimum signal strength.\n"
     ]
    }
   ],
   "source": [
    "print(text)"
   ]
  },
  {
   "cell_type": "code",
   "execution_count": 102,
   "id": "other-cemetery",
   "metadata": {},
   "outputs": [
    {
     "name": "stdout",
     "output_type": "stream",
     "text": [
      "\n",
      "Machine learning for making predictions — If you have transactional data of a finance company and need to build a model to determine the future trend, then machine learning algorithms are the best bet. \n",
      "Predictive causal analytics : If you want a model that can predict the possibilities of a particular event in the future, you need to apply predictive causal analytics. \n",
      "Prescriptive analytics: If you want a model that has the intelligence of taking its own decisions and the ability to modify it with dynamic parameters, you certainly need prescriptive analytics for it. \n",
      "Machine learning for pattern discovery — If you don’t have the parameters based on which you can make predictions, then you need to find out the hidden patterns within the dataset to be able to make meaningful predictions. Here, you can build a model that can perform predictive analytics on the payment history of the customer to predict if the future payments will be on time or not. Say, if you are providing money on credit, then the probability of customers making future credit payments on time is a matter of concern for you.\n"
     ]
    }
   ],
   "source": [
    "print(summary)"
   ]
  },
  {
   "cell_type": "code",
   "execution_count": 106,
   "id": "tutorial-nigeria",
   "metadata": {},
   "outputs": [
    {
     "name": "stdout",
     "output_type": "stream",
     "text": [
      "Length of original text : 2290\n",
      "Length of text after summarization : 1109\n"
     ]
    }
   ],
   "source": [
    "print(\"Length of original text :\",len(text))  \n",
    "print(\"Length of text after summarization :\",len(summary))"
   ]
  },
  {
   "cell_type": "code",
   "execution_count": null,
   "id": "educational-color",
   "metadata": {},
   "outputs": [],
   "source": []
  },
  {
   "cell_type": "code",
   "execution_count": null,
   "id": "efficient-officer",
   "metadata": {},
   "outputs": [],
   "source": []
  }
 ],
 "metadata": {
  "kernelspec": {
   "display_name": "Python 3",
   "language": "python",
   "name": "python3"
  },
  "language_info": {
   "codemirror_mode": {
    "name": "ipython",
    "version": 3
   },
   "file_extension": ".py",
   "mimetype": "text/x-python",
   "name": "python",
   "nbconvert_exporter": "python",
   "pygments_lexer": "ipython3",
   "version": "3.8.5"
  }
 },
 "nbformat": 4,
 "nbformat_minor": 5
}
